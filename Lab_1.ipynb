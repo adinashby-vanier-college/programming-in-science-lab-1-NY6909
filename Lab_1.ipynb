{
  "nbformat": 4,
  "nbformat_minor": 0,
  "metadata": {
    "colab": {
      "provenance": []
    },
    "kernelspec": {
      "name": "python3",
      "display_name": "Python 3"
    },
    "language_info": {
      "name": "python"
    }
  },
  "cells": [
    {
      "cell_type": "code",
      "source": [
        "print(\"Hello, world!\")\n",
        "name = input(str(\"Enter your name:\"))\n",
        "print(\"Hello,\" + \" \" + name + \"!\")\n",
        "age = input(\"Enter your age:\")\n",
        "print(\"You are\" + \" \" + age + \" years old.\")\n",
        "height = input(\"Enter your height:\")\n",
        "print(\"Your height is\" + \" \" + height + \" meters.\")"
      ],
      "metadata": {
        "colab": {
          "base_uri": "https://localhost:8080/"
        },
        "id": "Jcacmpt9RSrp",
        "outputId": "a3d30bc9-2d3a-4e97-f52e-1894bf7dcb20"
      },
      "execution_count": 20,
      "outputs": [
        {
          "output_type": "stream",
          "name": "stdout",
          "text": [
            "Hello, world!\n",
            "Enter your name:neshama\n",
            "Hello, neshama!\n",
            "Enter your age:18\n",
            "You are 18 years old.\n",
            "Enter your height:5''7\n",
            "Your height is 5''7 meters.\n"
          ]
        }
      ]
    },
    {
      "cell_type": "code",
      "execution_count": null,
      "metadata": {
        "id": "oF7dM9ipRQlR"
      },
      "outputs": [],
      "source": []
    }
  ]
}